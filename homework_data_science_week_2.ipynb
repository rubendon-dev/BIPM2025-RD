{
  "nbformat": 4,
  "nbformat_minor": 0,
  "metadata": {
    "colab": {
      "provenance": [],
      "authorship_tag": "ABX9TyMHihWCZiMLQG0PEu4vqk2J",
      "include_colab_link": true
    },
    "kernelspec": {
      "name": "python3",
      "display_name": "Python 3"
    },
    "language_info": {
      "name": "python"
    }
  },
  "cells": [
    {
      "cell_type": "markdown",
      "metadata": {
        "id": "view-in-github",
        "colab_type": "text"
      },
      "source": [
        "<a href=\"https://colab.research.google.com/github/rubendon-dev/BIPM2025-RD/blob/main/homework_data_science_week_2.ipynb\" target=\"_parent\"><img src=\"https://colab.research.google.com/assets/colab-badge.svg\" alt=\"Open In Colab\"/></a>"
      ]
    },
    {
      "cell_type": "markdown",
      "source": [
        "Write a python function that simulates **the number of people present in an office** when the n employees work from home 3 days a week and in the office 2 days.\n",
        "\n",
        "For each simulated week:\n",
        "\n",
        "- Each of nnn employees randomly selects 2 distinct office days (from 5).\n",
        "\n",
        "- For each day, count how many employees chose that day.\n",
        "\n",
        "- Aggregate across simulations to approximate the distribution.\n",
        "\n",
        "- Plot a histogram"
      ],
      "metadata": {
        "id": "H3K8yBKi2pxR"
      }
    },
    {
      "cell_type": "code",
      "execution_count": 4,
      "metadata": {
        "id": "gCJtD-zA2KVf"
      },
      "outputs": [],
      "source": [
        "import numpy as np\n",
        "import pandas as pd\n",
        "\n",
        "# number_of_employees = 526\n",
        "# number_of_days_in_a_week = np.array([1, 2, 3, 4, 5])\n",
        "\n",
        "# office_days = np.random.choice(number_of_days_in_a_week, size=(number_of_employees, 2))\n",
        "# office_days_table = pd.DataFrame(office_days, index=range(1, number_of_employees + 1))\n",
        "# office_days_table.columns = ['day_1', 'day_2']\n",
        "\n",
        "# office_days_table_weekly = office_days_table.replace({1: 'Monday', 2: 'Tuesday', 3: 'Wednesday', 4: 'Thursday', 5: 'Friday'})"
      ]
    },
    {
      "cell_type": "code",
      "source": [
        "# days in a week chosen by 1 employee\n",
        "\n",
        "# five_zero_table = np.random.choice(np.arange(1, 6), 2, replace=False)\n",
        "\n",
        "# 2 days in a week chosen by 526 employees\n",
        "\n",
        "days_chosen = {}\n",
        "\n",
        "for i in range(1, 527):\n",
        "    days_chosen[i] = np.random.choice(np.arange(1, 6), 2, replace=False)\n",
        "\n",
        "# what days they chose\n",
        "\n",
        "daily_counts = {day: 0 for day in range(1, 6)}\n",
        "\n",
        "for employee_days in days_chosen.values():\n",
        "    for day in employee_days:\n",
        "        daily_counts[day] += 1\n",
        "\n",
        "print(daily_counts)"
      ],
      "metadata": {
        "colab": {
          "base_uri": "https://localhost:8080/"
        },
        "id": "X-UI2ffmdZZM",
        "outputId": "c47b85c4-5275-4f43-d178-528d8e4d380c"
      },
      "execution_count": 69,
      "outputs": [
        {
          "output_type": "stream",
          "name": "stdout",
          "text": [
            "{1: 213, 2: 188, 3: 208, 4: 213, 5: 230}\n"
          ]
        }
      ]
    },
    {
      "cell_type": "code",
      "source": [
        "# Aggregate across simulations to approximate the distribution\n",
        "\n",
        "all_simulations = []\n",
        "simulation = {day: 0 for day in range(1, 6)}\n",
        "\n",
        "def simulation_office_days():\n",
        "  for employee_days in days_chosen.values():\n",
        "    for day in employee_days:\n",
        "        simulation[day] += 1\n",
        "\n",
        "simulation_office_days()\n",
        "simulation\n",
        "\n",
        "# Hint 1: You'll need a loop to run the simulation many times.\n",
        "# Hint 2: Inside the loop, you'll perform the steps you've already worked on (simulating employee choices and counting daily attendance).\n",
        "# Hint 3: You'll need a way to store the daily counts from each simulation run. A list of dictionaries or a pandas DataFrame could work.\n",
        "# Hint 4: After the loop, you'll have data from many simulations. You can then analyze this data to understand the distribution of daily attendance numbers."
      ],
      "metadata": {
        "colab": {
          "base_uri": "https://localhost:8080/"
        },
        "id": "2Z92G22uEgyF",
        "outputId": "54793905-1b7f-4326-8f91-c1c0d857f67e"
      },
      "execution_count": 90,
      "outputs": [
        {
          "output_type": "execute_result",
          "data": {
            "text/plain": [
              "{1: 213, 2: 188, 3: 208, 4: 213, 5: 230}"
            ]
          },
          "metadata": {},
          "execution_count": 90
        }
      ]
    },
    {
      "cell_type": "code",
      "source": [],
      "metadata": {
        "id": "f9N3I2MpKKX5"
      },
      "execution_count": null,
      "outputs": []
    },
    {
      "cell_type": "markdown",
      "source": [],
      "metadata": {
        "id": "Syv8V1KMKKHw"
      }
    },
    {
      "cell_type": "markdown",
      "source": [
        "Probability that two particular employees overlap ≥ 2 days\n",
        "\n",
        "For each simulated week:\n",
        "\n",
        "- Simulate their two chosen office days.\n",
        "\n",
        "- Count the overlap between them.\n",
        "\n",
        "- Record whether overlap ≥ 2."
      ],
      "metadata": {
        "id": "qBzuCLUK28D7"
      }
    },
    {
      "cell_type": "code",
      "source": [],
      "metadata": {
        "id": "qfe7HEHR3AmZ"
      },
      "execution_count": null,
      "outputs": []
    }
  ]
}
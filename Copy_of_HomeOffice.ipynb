{
  "cells": [
    {
      "cell_type": "markdown",
      "metadata": {
        "id": "view-in-github",
        "colab_type": "text"
      },
      "source": [
        "<a href=\"https://colab.research.google.com/github/rubendon-dev/BIPM2025-RD/blob/main/Copy_of_HomeOffice.ipynb\" target=\"_parent\"><img src=\"https://colab.research.google.com/assets/colab-badge.svg\" alt=\"Open In Colab\"/></a>"
      ]
    },
    {
      "cell_type": "code",
      "execution_count": null,
      "id": "5b12b0d7",
      "metadata": {
        "id": "5b12b0d7"
      },
      "outputs": [],
      "source": []
    },
    {
      "cell_type": "markdown",
      "id": "7b0d6422",
      "metadata": {
        "id": "7b0d6422"
      },
      "source": []
    },
    {
      "cell_type": "markdown",
      "id": "e456ad1a",
      "metadata": {
        "id": "e456ad1a"
      },
      "source": [
        "# Home Office Simulation\n",
        "\n",
        "Write a python function that simulates the number of people present in an office when the n employees work from home 3 days a week and in the office 2 days.\n",
        "In particular, the results should be:\n",
        "\n",
        "1. Distribution of # employees in the office on a random day\n",
        "For each simulated week:\n",
        "\n",
        "Each of nnn employees randomly selects 2 distinct office days (from 5).\n",
        "\n",
        "For each day, count how many employees chose that day.\n",
        "\n",
        "Aggregate across simulations to approximate the distribution.\n",
        "\n",
        "Plot a histogram\n",
        "\n",
        "2. Probability that two particular employees overlap ≥ 2 days\n",
        "For each simulated week:\n",
        "\n",
        "Simulate their two chosen office days.\n",
        "\n",
        "Count the overlap between them.\n",
        "\n",
        "Record whether overlap ≥ 2."
      ]
    },
    {
      "cell_type": "markdown",
      "id": "cfebc61c",
      "metadata": {
        "id": "cfebc61c"
      },
      "source": [
        "## Skeleton code for desired function:"
      ]
    },
    {
      "cell_type": "code",
      "execution_count": null,
      "id": "7fa3b4cf",
      "metadata": {
        "id": "7fa3b4cf"
      },
      "outputs": [],
      "source": [
        "import numpy as np\n",
        "import matplotlib.pyplot as plt\n",
        "\n",
        "def office_simulation(n=20, n_weeks=1000, seed=None, plot=True):\n",
        "    \"\"\"\n",
        "    Simulates office attendance given n employees each in-office 2 of 5 weekdays.\n",
        "\n",
        "    Parameters\n",
        "    ----------\n",
        "    n : int\n",
        "        Number of employees.\n",
        "    n_weeks : int\n",
        "        Number of simulated weeks.\n",
        "    seed : int or None\n",
        "        Random seed for reproducibility.\n",
        "    plot : bool\n",
        "        Whether to plot the resulting distribution.\n",
        "\n",
        "    Returns\n",
        "    -------\n",
        "    dist : array\n",
        "        Empirical distribution of #employees present on a random day.\n",
        "    overlap_prob : float\n",
        "        Probability that two specific employees overlap >=2 days per week.\n",
        "    \"\"\"\n",
        "\n",
        "    rng = np.random.default_rng(seed)\n",
        "    days = np.arange(5)\n",
        "\n",
        "    day_counts = []\n",
        "    overlap_count = 0\n",
        "\n",
        "    for _ in range(n_weeks):\n",
        "        # Each employee randomly chooses 2 distinct office days\n",
        "\n",
        "\n",
        "        # Count how many employees come in on each day\n",
        "\n",
        "\n",
        "        # Overlap between two particular employees (say #0 and #1)\n",
        "\n",
        "\n",
        "    # Distribution of employees per day\n",
        "\n",
        "\n",
        "    if plot:\n",
        "        plt.figure(figsize=(7, 4))\n",
        "\n",
        "        plt.xlabel(\"Number of employees in the office\")\n",
        "        plt.ylabel(\"Probability\")\n",
        "        plt.title(f\"Distribution of employees in office (n={n})\")\n",
        "        plt.grid(alpha=0.3)\n",
        "        plt.show()\n",
        "\n",
        "    return dist, overlap_prob\n"
      ]
    },
    {
      "cell_type": "code",
      "execution_count": null,
      "id": "0642d199",
      "metadata": {
        "id": "0642d199",
        "outputId": "868886d6-a716-48e2-cb73-f81d5b31cbb9"
      },
      "outputs": [
        {
          "data": {
            "image/png": "[encoded data removed]",
            "text/plain": [
              "<Figure size 700x400 with 1 Axes>"
            ]
          },
          "metadata": {},
          "output_type": "display_data"
        },
        {
          "name": "stdout",
          "output_type": "stream",
          "text": [
            "Distribution of # employees in the office on a random day:\n",
            " 1: 0.000\n",
            " 2: 0.000\n",
            " 3: 0.002\n",
            " 4: 0.007\n",
            " 5: 0.020\n",
            " 6: 0.044\n",
            " 7: 0.080\n",
            " 8: 0.120\n",
            " 9: 0.151\n",
            "10: 0.162\n",
            "11: 0.146\n",
            "12: 0.114\n",
            "13: 0.076\n",
            "14: 0.043\n",
            "15: 0.021\n",
            "16: 0.009\n",
            "17: 0.003\n",
            "18: 0.001\n",
            "19: 0.000\n",
            "20: 0.000\n",
            "21: 0.000\n",
            "22: 0.000\n",
            "\n",
            "P(two specific employees overlap ≥ 2 days/week): 0.0998\n"
          ]
        }
      ],
      "source": [
        "dist, overlap_prob = office_simulation(n=25, n_weeks=2000, seed=42)\n",
        "\n",
        "\n",
        "print(f\"\\nP(two specific employees overlap ≥ 2 days/week): {overlap_prob:.4f}\")\n"
      ]
    },
    {
      "cell_type": "markdown",
      "id": "fc861647",
      "metadata": {
        "id": "fc861647"
      },
      "source": [
        "### One week, one employee:"
      ]
    },
    {
      "cell_type": "code",
      "execution_count": null,
      "id": "f18ce548",
      "metadata": {
        "id": "f18ce548",
        "outputId": "21a38522-9566-442b-f98f-5c250e08c80a"
      },
      "outputs": [
        {
          "name": "stdout",
          "output_type": "stream",
          "text": [
            "[0. 0. 0. 0. 0. 0.]\n",
            "[5 2]\n"
          ]
        },
        {
          "data": {
            "text/plain": [
              "array([0., 1., 0., 0., 1., 0.])"
            ]
          },
          "execution_count": 1,
          "metadata": {},
          "output_type": "execute_result"
        }
      ],
      "source": [
        "import numpy as np\n",
        "\n",
        "rng = np.random.default_rng()\n",
        "\n",
        "\n",
        "#simulate 2 random days in the office\n",
        "\n",
        "rng.integers(1,6,2)\n",
        "# WAIT We need to set replace = FALSE !! Because there should be no duplicates!\n",
        "empChoice = rng.choice(np.arange(1,6),2, replace = False )\n",
        "weekdays = np.zeros(6)\n",
        "print(weekdays)\n",
        "print(empChoice)\n",
        "#weekdays[0] += 1\n",
        "#weekdays[4] += 1\n",
        "\n",
        "weekdays[empChoice -1 ] += 1\n",
        "weekdays\n",
        "\n",
        "\n"
      ]
    },
    {
      "cell_type": "code",
      "execution_count": null,
      "id": "edc10e85",
      "metadata": {
        "id": "edc10e85"
      },
      "outputs": [],
      "source": []
    }
  ],
  "metadata": {
    "kernelspec": {
      "display_name": "venv312",
      "language": "python",
      "name": "python3"
    },
    "language_info": {
      "codemirror_mode": {
        "name": "ipython",
        "version": 3
      },
      "file_extension": ".py",
      "mimetype": "text/x-python",
      "name": "python",
      "nbconvert_exporter": "python",
      "pygments_lexer": "ipython3",
      "version": "3.12.0"
    },
    "colab": {
      "provenance": [],
      "include_colab_link": true
    }
  },
  "nbformat": 4,
  "nbformat_minor": 5
}